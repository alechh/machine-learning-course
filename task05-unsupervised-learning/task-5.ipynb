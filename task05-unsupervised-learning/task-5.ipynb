{
 "cells": [
  {
   "attachments": {},
   "cell_type": "markdown",
   "metadata": {},
   "source": [
    "# Задача 5. Обучение без учителя"
   ]
  },
  {
   "attachments": {},
   "cell_type": "markdown",
   "metadata": {},
   "source": [
    "1. Найти данные с количеством признаков хотя бы 50, на которых можно решить задачу кластеризации.\n",
    "2. Выполнить разведочный анализ (EDA). При необходимости выполнить полезные преобразования данных.\n",
    "3. Самостоятельно реализуйте один из алгоритмов кластеризации, например K-means.\n",
    "4. Обучите модели кластеризации, используя свою реализацию, а также хотя бы две реализации из sklearn (KMeans, Affinity Propogation, DBSCAN и тд).\n",
    "5. При обучении использовать подбор гиперпараметров.\n",
    "6. Сравнить качество моделей: замерить скорость обучения, вычислить различные метрики качества.\n",
    "7. (+3 балла) Также снизить размерность данных с помощью метода главных компонент PCA и и понять качество дальнейшей кластеризации всеми использованными реализациями при различном количестве главных компонент.\n",
    "8. (+2 балла) Визуализировать данные снижением размерности до 2 или 3 с помощью PCA и t-SNE. В случае проблем с производительностью t-SNE, можно сначала до какой то степени снизить размерность с помощью PCA, а затем запустить t-SNE."
   ]
  },
  {
   "attachments": {},
   "cell_type": "markdown",
   "metadata": {},
   "source": [
    "Выполнил все пункты."
   ]
  },
  {
   "attachments": {},
   "cell_type": "markdown",
   "metadata": {},
   "source": [
    "## Датасет"
   ]
  },
  {
   "attachments": {},
   "cell_type": "markdown",
   "metadata": {},
   "source": [
    "Датасет \"online-news\", который доступен по [ссылке](https://www.kaggle.com/datasets/siddheshkadam/online-news)."
   ]
  },
  {
   "cell_type": "code",
   "execution_count": 29,
   "metadata": {},
   "outputs": [],
   "source": [
    "import pandas as pd\n",
    "data = pd.read_csv('online-news.csv')"
   ]
  },
  {
   "attachments": {},
   "cell_type": "markdown",
   "metadata": {},
   "source": [
    "## 2. Выполнить разведочный анализ (EDA). При необходимости выполнить полезные преобразования данных."
   ]
  },
  {
   "cell_type": "code",
   "execution_count": 30,
   "metadata": {},
   "outputs": [
    {
     "data": {
      "text/html": [
       "<div>\n",
       "<style scoped>\n",
       "    .dataframe tbody tr th:only-of-type {\n",
       "        vertical-align: middle;\n",
       "    }\n",
       "\n",
       "    .dataframe tbody tr th {\n",
       "        vertical-align: top;\n",
       "    }\n",
       "\n",
       "    .dataframe thead th {\n",
       "        text-align: right;\n",
       "    }\n",
       "</style>\n",
       "<table border=\"1\" class=\"dataframe\">\n",
       "  <thead>\n",
       "    <tr style=\"text-align: right;\">\n",
       "      <th></th>\n",
       "      <th>url</th>\n",
       "      <th>timedelta</th>\n",
       "      <th>n_tokens_title</th>\n",
       "      <th>n_tokens_content</th>\n",
       "      <th>n_unique_tokens</th>\n",
       "      <th>n_non_stop_words</th>\n",
       "      <th>n_non_stop_unique_tokens</th>\n",
       "      <th>num_hrefs</th>\n",
       "      <th>num_self_hrefs</th>\n",
       "      <th>num_imgs</th>\n",
       "      <th>...</th>\n",
       "      <th>min_positive_polarity</th>\n",
       "      <th>max_positive_polarity</th>\n",
       "      <th>avg_negative_polarity</th>\n",
       "      <th>min_negative_polarity</th>\n",
       "      <th>max_negative_polarity</th>\n",
       "      <th>title_subjectivity</th>\n",
       "      <th>title_sentiment_polarity</th>\n",
       "      <th>abs_title_subjectivity</th>\n",
       "      <th>abs_title_sentiment_polarity</th>\n",
       "      <th>shares</th>\n",
       "    </tr>\n",
       "  </thead>\n",
       "  <tbody>\n",
       "    <tr>\n",
       "      <th>0</th>\n",
       "      <td>http://mashable.com/2013/01/07/amazon-instant-...</td>\n",
       "      <td>731</td>\n",
       "      <td>12</td>\n",
       "      <td>219</td>\n",
       "      <td>0.663594</td>\n",
       "      <td>1.0</td>\n",
       "      <td>0.815385</td>\n",
       "      <td>4</td>\n",
       "      <td>2</td>\n",
       "      <td>1</td>\n",
       "      <td>...</td>\n",
       "      <td>0.100000</td>\n",
       "      <td>0.7</td>\n",
       "      <td>-0.350000</td>\n",
       "      <td>-0.600</td>\n",
       "      <td>-0.200000</td>\n",
       "      <td>0.500000</td>\n",
       "      <td>-0.187500</td>\n",
       "      <td>0.000000</td>\n",
       "      <td>0.187500</td>\n",
       "      <td>593</td>\n",
       "    </tr>\n",
       "    <tr>\n",
       "      <th>1</th>\n",
       "      <td>http://mashable.com/2013/01/07/ap-samsung-spon...</td>\n",
       "      <td>731</td>\n",
       "      <td>9</td>\n",
       "      <td>255</td>\n",
       "      <td>0.604743</td>\n",
       "      <td>1.0</td>\n",
       "      <td>0.791946</td>\n",
       "      <td>3</td>\n",
       "      <td>1</td>\n",
       "      <td>1</td>\n",
       "      <td>...</td>\n",
       "      <td>0.033333</td>\n",
       "      <td>0.7</td>\n",
       "      <td>-0.118750</td>\n",
       "      <td>-0.125</td>\n",
       "      <td>-0.100000</td>\n",
       "      <td>0.000000</td>\n",
       "      <td>0.000000</td>\n",
       "      <td>0.500000</td>\n",
       "      <td>0.000000</td>\n",
       "      <td>711</td>\n",
       "    </tr>\n",
       "    <tr>\n",
       "      <th>2</th>\n",
       "      <td>http://mashable.com/2013/01/07/apple-40-billio...</td>\n",
       "      <td>731</td>\n",
       "      <td>9</td>\n",
       "      <td>211</td>\n",
       "      <td>0.575130</td>\n",
       "      <td>1.0</td>\n",
       "      <td>0.663866</td>\n",
       "      <td>3</td>\n",
       "      <td>1</td>\n",
       "      <td>1</td>\n",
       "      <td>...</td>\n",
       "      <td>0.100000</td>\n",
       "      <td>1.0</td>\n",
       "      <td>-0.466667</td>\n",
       "      <td>-0.800</td>\n",
       "      <td>-0.133333</td>\n",
       "      <td>0.000000</td>\n",
       "      <td>0.000000</td>\n",
       "      <td>0.500000</td>\n",
       "      <td>0.000000</td>\n",
       "      <td>1500</td>\n",
       "    </tr>\n",
       "    <tr>\n",
       "      <th>3</th>\n",
       "      <td>http://mashable.com/2013/01/07/astronaut-notre...</td>\n",
       "      <td>731</td>\n",
       "      <td>9</td>\n",
       "      <td>531</td>\n",
       "      <td>0.503788</td>\n",
       "      <td>1.0</td>\n",
       "      <td>0.665635</td>\n",
       "      <td>9</td>\n",
       "      <td>0</td>\n",
       "      <td>1</td>\n",
       "      <td>...</td>\n",
       "      <td>0.136364</td>\n",
       "      <td>0.8</td>\n",
       "      <td>-0.369697</td>\n",
       "      <td>-0.600</td>\n",
       "      <td>-0.166667</td>\n",
       "      <td>0.000000</td>\n",
       "      <td>0.000000</td>\n",
       "      <td>0.500000</td>\n",
       "      <td>0.000000</td>\n",
       "      <td>1200</td>\n",
       "    </tr>\n",
       "    <tr>\n",
       "      <th>4</th>\n",
       "      <td>http://mashable.com/2013/01/07/att-u-verse-apps/</td>\n",
       "      <td>731</td>\n",
       "      <td>13</td>\n",
       "      <td>1072</td>\n",
       "      <td>0.415646</td>\n",
       "      <td>1.0</td>\n",
       "      <td>0.540890</td>\n",
       "      <td>19</td>\n",
       "      <td>19</td>\n",
       "      <td>20</td>\n",
       "      <td>...</td>\n",
       "      <td>0.033333</td>\n",
       "      <td>1.0</td>\n",
       "      <td>-0.220192</td>\n",
       "      <td>-0.500</td>\n",
       "      <td>-0.050000</td>\n",
       "      <td>0.454545</td>\n",
       "      <td>0.136364</td>\n",
       "      <td>0.045455</td>\n",
       "      <td>0.136364</td>\n",
       "      <td>505</td>\n",
       "    </tr>\n",
       "  </tbody>\n",
       "</table>\n",
       "<p>5 rows × 61 columns</p>\n",
       "</div>"
      ],
      "text/plain": [
       "                                                 url   timedelta  \\\n",
       "0  http://mashable.com/2013/01/07/amazon-instant-...         731   \n",
       "1  http://mashable.com/2013/01/07/ap-samsung-spon...         731   \n",
       "2  http://mashable.com/2013/01/07/apple-40-billio...         731   \n",
       "3  http://mashable.com/2013/01/07/astronaut-notre...         731   \n",
       "4   http://mashable.com/2013/01/07/att-u-verse-apps/         731   \n",
       "\n",
       "    n_tokens_title   n_tokens_content   n_unique_tokens   n_non_stop_words  \\\n",
       "0               12                219          0.663594                1.0   \n",
       "1                9                255          0.604743                1.0   \n",
       "2                9                211          0.575130                1.0   \n",
       "3                9                531          0.503788                1.0   \n",
       "4               13               1072          0.415646                1.0   \n",
       "\n",
       "    n_non_stop_unique_tokens   num_hrefs   num_self_hrefs   num_imgs  ...  \\\n",
       "0                   0.815385           4                2          1  ...   \n",
       "1                   0.791946           3                1          1  ...   \n",
       "2                   0.663866           3                1          1  ...   \n",
       "3                   0.665635           9                0          1  ...   \n",
       "4                   0.540890          19               19         20  ...   \n",
       "\n",
       "    min_positive_polarity   max_positive_polarity   avg_negative_polarity  \\\n",
       "0                0.100000                     0.7               -0.350000   \n",
       "1                0.033333                     0.7               -0.118750   \n",
       "2                0.100000                     1.0               -0.466667   \n",
       "3                0.136364                     0.8               -0.369697   \n",
       "4                0.033333                     1.0               -0.220192   \n",
       "\n",
       "    min_negative_polarity   max_negative_polarity   title_subjectivity  \\\n",
       "0                  -0.600               -0.200000             0.500000   \n",
       "1                  -0.125               -0.100000             0.000000   \n",
       "2                  -0.800               -0.133333             0.000000   \n",
       "3                  -0.600               -0.166667             0.000000   \n",
       "4                  -0.500               -0.050000             0.454545   \n",
       "\n",
       "    title_sentiment_polarity   abs_title_subjectivity  \\\n",
       "0                  -0.187500                 0.000000   \n",
       "1                   0.000000                 0.500000   \n",
       "2                   0.000000                 0.500000   \n",
       "3                   0.000000                 0.500000   \n",
       "4                   0.136364                 0.045455   \n",
       "\n",
       "    abs_title_sentiment_polarity   shares  \n",
       "0                       0.187500      593  \n",
       "1                       0.000000      711  \n",
       "2                       0.000000     1500  \n",
       "3                       0.000000     1200  \n",
       "4                       0.136364      505  \n",
       "\n",
       "[5 rows x 61 columns]"
      ]
     },
     "execution_count": 30,
     "metadata": {},
     "output_type": "execute_result"
    }
   ],
   "source": [
    "data.head()"
   ]
  },
  {
   "cell_type": "code",
   "execution_count": 31,
   "metadata": {},
   "outputs": [
    {
     "data": {
      "text/plain": [
       "(39644, 61)"
      ]
     },
     "execution_count": 31,
     "metadata": {},
     "output_type": "execute_result"
    }
   ],
   "source": [
    "data.shape"
   ]
  },
  {
   "attachments": {},
   "cell_type": "markdown",
   "metadata": {},
   "source": [
    "В данных 61 признак и 39.644 объекта."
   ]
  },
  {
   "cell_type": "code",
   "execution_count": 32,
   "metadata": {},
   "outputs": [
    {
     "data": {
      "text/plain": [
       "url                               object\n",
       " timedelta                         int64\n",
       " n_tokens_title                    int64\n",
       " n_tokens_content                  int64\n",
       " n_unique_tokens                 float64\n",
       "                                  ...   \n",
       " title_subjectivity              float64\n",
       " title_sentiment_polarity        float64\n",
       " abs_title_subjectivity          float64\n",
       " abs_title_sentiment_polarity    float64\n",
       " shares                            int64\n",
       "Length: 61, dtype: object"
      ]
     },
     "execution_count": 32,
     "metadata": {},
     "output_type": "execute_result"
    }
   ],
   "source": [
    "data.dtypes"
   ]
  },
  {
   "cell_type": "code",
   "execution_count": 33,
   "metadata": {},
   "outputs": [
    {
     "data": {
      "text/plain": [
       "array([dtype('O'), dtype('int64'), dtype('float64')], dtype=object)"
      ]
     },
     "execution_count": 33,
     "metadata": {},
     "output_type": "execute_result"
    }
   ],
   "source": [
    "data.dtypes.unique()"
   ]
  },
  {
   "attachments": {},
   "cell_type": "markdown",
   "metadata": {},
   "source": [
    "Типы данных: Строки, целые числа и числа с плавающей точкой."
   ]
  },
  {
   "cell_type": "code",
   "execution_count": 34,
   "metadata": {},
   "outputs": [
    {
     "data": {
      "text/plain": [
       "url                              0\n",
       " timedelta                       0\n",
       " n_tokens_title                  0\n",
       " n_tokens_content                0\n",
       " n_unique_tokens                 0\n",
       "                                ..\n",
       " title_subjectivity              0\n",
       " title_sentiment_polarity        0\n",
       " abs_title_subjectivity          0\n",
       " abs_title_sentiment_polarity    0\n",
       " shares                          0\n",
       "Length: 61, dtype: int64"
      ]
     },
     "execution_count": 34,
     "metadata": {},
     "output_type": "execute_result"
    }
   ],
   "source": [
    "data.isnull().sum()"
   ]
  },
  {
   "cell_type": "code",
   "execution_count": 35,
   "metadata": {},
   "outputs": [
    {
     "data": {
      "text/plain": [
       "0"
      ]
     },
     "execution_count": 35,
     "metadata": {},
     "output_type": "execute_result"
    }
   ],
   "source": [
    "data.isnull().sum().sum()"
   ]
  },
  {
   "attachments": {},
   "cell_type": "markdown",
   "metadata": {},
   "source": [
    "В данных нет пропусков"
   ]
  },
  {
   "attachments": {},
   "cell_type": "markdown",
   "metadata": {},
   "source": [
    "Уберём столбец со строками, так как он не несёт никакой информации."
   ]
  },
  {
   "cell_type": "code",
   "execution_count": 36,
   "metadata": {},
   "outputs": [],
   "source": [
    "# drop all string columns\n",
    "data = data.select_dtypes(exclude=['object'])\n"
   ]
  },
  {
   "cell_type": "code",
   "execution_count": 37,
   "metadata": {},
   "outputs": [
    {
     "data": {
      "text/plain": [
       "(39644, 60)"
      ]
     },
     "execution_count": 37,
     "metadata": {},
     "output_type": "execute_result"
    }
   ],
   "source": [
    "data.shape"
   ]
  },
  {
   "attachments": {},
   "cell_type": "markdown",
   "metadata": {},
   "source": [
    "Такой столбец был всего один."
   ]
  },
  {
   "attachments": {},
   "cell_type": "markdown",
   "metadata": {},
   "source": [
    "## 3. Самостоятельно реализуйте один из алгоритмов кластеризации, например K-means."
   ]
  },
  {
   "cell_type": "code",
   "execution_count": 38,
   "metadata": {},
   "outputs": [],
   "source": [
    "import numpy as np\n",
    "\n",
    "class MyKMeans:\n",
    "    def __init__(self, K, max_iterations=100, tol=1e-4):\n",
    "        self.K = K\n",
    "        self.max_iterations = max_iterations\n",
    "        self.tol = tol\n",
    "\n",
    "    def _init_centroids(self, X):\n",
    "        random_indices = np.random.choice(X.shape[0], self.K, replace=False)\n",
    "        return X[random_indices]\n",
    "\n",
    "    def _compute_distances(self, X, centroids):\n",
    "        distances = np.zeros((X.shape[0], centroids.shape[0]))\n",
    "        for i, centroid in enumerate(centroids):\n",
    "            distances[:, i] = np.linalg.norm(X - centroid, axis=1)\n",
    "        return distances\n",
    "\n",
    "    def _assign_clusters(self, distances):\n",
    "        return np.argmin(distances, axis=1)\n",
    "\n",
    "    def _update_centroids(self, X, cluster_assignments):\n",
    "        centroids = np.zeros((self.K, X.shape[1]))\n",
    "        for i in range(self.K):\n",
    "            centroids[i] = np.mean(X[cluster_assignments == i], axis=0)\n",
    "        return centroids\n",
    "\n",
    "    def fit(self, X):\n",
    "        self.centroids = self._init_centroids(X)\n",
    "        prev_centroids = self.centroids.copy()\n",
    "\n",
    "        for _ in range(self.max_iterations):\n",
    "            distances = self._compute_distances(X, self.centroids)\n",
    "            self.cluster_assignments = self._assign_clusters(distances)\n",
    "            self.centroids = self._update_centroids(X, self.cluster_assignments)\n",
    "\n",
    "            if np.linalg.norm(self.centroids - prev_centroids) < self.tol:\n",
    "                break\n",
    "\n",
    "            prev_centroids = self.centroids.copy()\n",
    "\n",
    "        return self\n",
    "\n",
    "    def predict(self, X):\n",
    "        distances = self._compute_distances(X, self.centroids)\n",
    "        return self._assign_clusters(distances)\n"
   ]
  },
  {
   "attachments": {},
   "cell_type": "markdown",
   "metadata": {},
   "source": [
    "## 4. Обучите модели кластеризации, используя свою реализацию, а также хотя бы две реализации из sklearn."
   ]
  },
  {
   "cell_type": "code",
   "execution_count": 39,
   "metadata": {},
   "outputs": [],
   "source": [
    "data_np = data.values\n",
    "\n",
    "from sklearn.metrics import silhouette_score"
   ]
  },
  {
   "cell_type": "code",
   "execution_count": 40,
   "metadata": {},
   "outputs": [
    {
     "name": "stdout",
     "output_type": "stream",
     "text": [
      "Лучшее значение K: 2, силуэтный коэффициент: 0.7885313314511687\n"
     ]
    }
   ],
   "source": [
    "# Значения K для перебора\n",
    "K_values = range(2, 11)\n",
    "best_K = None\n",
    "best_score = -1\n",
    "\n",
    "for K in K_values:\n",
    "    kmeans = MyKMeans(K=K)\n",
    "    kmeans.fit(data_np)\n",
    "    cluster_assignments = kmeans.predict(data_np)\n",
    "    score = silhouette_score(data_np, cluster_assignments)\n",
    "    \n",
    "    if score > best_score:\n",
    "        best_score = score\n",
    "        best_K = K\n",
    "\n",
    "print(f\"Лучшее значение K: {best_K}, силуэтный коэффициент: {best_score}\")\n",
    "K_MyKMeans = best_K\n"
   ]
  },
  {
   "cell_type": "code",
   "execution_count": 41,
   "metadata": {},
   "outputs": [],
   "source": [
    "import time\n",
    "\n",
    "start_time = time.time()\n",
    "kmeans = MyKMeans(K=K_MyKMeans)\n",
    "kmeans.fit(data_np)\n",
    "end_time = time.time()\n",
    "\n",
    "My_KMeans_time = end_time - start_time\n",
    "cluster_assignments = kmeans.predict(data_np)\n",
    "My_KMeans_silhouette = silhouette_score(data_np, cluster_assignments)"
   ]
  },
  {
   "cell_type": "code",
   "execution_count": 42,
   "metadata": {},
   "outputs": [
    {
     "name": "stdout",
     "output_type": "stream",
     "text": [
      "Лучшее значение K: 2, силуэтный коэффициент: 0.7885313314511687\n"
     ]
    }
   ],
   "source": [
    "# K-means from sklearn and GridSearchCV\n",
    "from sklearn.cluster import KMeans\n",
    "\n",
    "# Значения K для перебора\n",
    "K_values = range(2, 11)\n",
    "best_K = None\n",
    "best_score = -1\n",
    "\n",
    "for K in K_values:\n",
    "    kmeans = KMeans(n_clusters=K, random_state=42)\n",
    "    cluster_assignments = kmeans.fit_predict(data_np)\n",
    "    score = silhouette_score(data_np, cluster_assignments)\n",
    "    \n",
    "    if score > best_score:\n",
    "        best_score = score\n",
    "        best_K = K\n",
    "\n",
    "print(f\"Лучшее значение K: {best_K}, силуэтный коэффициент: {best_score}\")\n",
    "K_KMeans = best_K"
   ]
  },
  {
   "cell_type": "code",
   "execution_count": 44,
   "metadata": {},
   "outputs": [],
   "source": [
    "import time\n",
    "\n",
    "start_time = time.time()\n",
    "kmeans = KMeans(n_clusters=K_KMeans, random_state=42)\n",
    "cluster_assignments = kmeans.fit_predict(data_np)\n",
    "end_time = time.time()\n",
    "\n",
    "KMeans_time = end_time - start_time\n",
    "KMeans_silhouette = silhouette_score(data_np, cluster_assignments)"
   ]
  },
  {
   "cell_type": "code",
   "execution_count": 45,
   "metadata": {},
   "outputs": [
    {
     "name": "stdout",
     "output_type": "stream",
     "text": [
      "Лучшее значение K: 4, силуэтный коэффициент: 0.4031016409684626\n"
     ]
    }
   ],
   "source": [
    "from sklearn.mixture import GaussianMixture\n",
    "\n",
    "K_values = range(2, 11)\n",
    "best_K = None\n",
    "best_score = -1\n",
    "\n",
    "for K in K_values:\n",
    "    gmm = GaussianMixture(n_components=K)\n",
    "    gmm.fit(data_np)\n",
    "    cluster_assignments = gmm.fit_predict(data_np)\n",
    "    score = silhouette_score(data_np, cluster_assignments)\n",
    "    \n",
    "    if score > best_score:\n",
    "        best_score = score\n",
    "        best_K = K\n",
    "\n",
    "print(f\"Лучшее значение K: {best_K}, силуэтный коэффициент: {best_score}\")\n",
    "K_GMM = best_K"
   ]
  },
  {
   "cell_type": "code",
   "execution_count": 46,
   "metadata": {},
   "outputs": [],
   "source": [
    "start_time = time.time()\n",
    "gmm = GaussianMixture(n_components=K_GMM)\n",
    "gmm.fit(data_np)\n",
    "cluster_assignments = gmm.fit_predict(data_np)\n",
    "end_time = time.time()\n",
    "\n",
    "GMM_time = end_time - start_time\n",
    "GMM_silhouette = silhouette_score(data_np, cluster_assignments)"
   ]
  },
  {
   "cell_type": "code",
   "execution_count": 47,
   "metadata": {},
   "outputs": [
    {
     "data": {
      "text/html": [
       "<div>\n",
       "<style scoped>\n",
       "    .dataframe tbody tr th:only-of-type {\n",
       "        vertical-align: middle;\n",
       "    }\n",
       "\n",
       "    .dataframe tbody tr th {\n",
       "        vertical-align: top;\n",
       "    }\n",
       "\n",
       "    .dataframe thead th {\n",
       "        text-align: right;\n",
       "    }\n",
       "</style>\n",
       "<table border=\"1\" class=\"dataframe\">\n",
       "  <thead>\n",
       "    <tr style=\"text-align: right;\">\n",
       "      <th></th>\n",
       "      <th>Метод</th>\n",
       "      <th>Время</th>\n",
       "      <th>Silhouette</th>\n",
       "    </tr>\n",
       "  </thead>\n",
       "  <tbody>\n",
       "    <tr>\n",
       "      <th>0</th>\n",
       "      <td>MyKMeans</td>\n",
       "      <td>0.088645</td>\n",
       "      <td>0.788531</td>\n",
       "    </tr>\n",
       "    <tr>\n",
       "      <th>1</th>\n",
       "      <td>KMeans</td>\n",
       "      <td>0.318847</td>\n",
       "      <td>0.788531</td>\n",
       "    </tr>\n",
       "    <tr>\n",
       "      <th>2</th>\n",
       "      <td>GMM</td>\n",
       "      <td>15.374193</td>\n",
       "      <td>0.403102</td>\n",
       "    </tr>\n",
       "  </tbody>\n",
       "</table>\n",
       "</div>"
      ],
      "text/plain": [
       "      Метод      Время  Silhouette\n",
       "0  MyKMeans   0.088645    0.788531\n",
       "1    KMeans   0.318847    0.788531\n",
       "2       GMM  15.374193    0.403102"
      ]
     },
     "execution_count": 47,
     "metadata": {},
     "output_type": "execute_result"
    }
   ],
   "source": [
    "# Таблица с результатами\n",
    "import pandas as pd\n",
    "\n",
    "results = pd.DataFrame({\n",
    "    'Метод': ['MyKMeans', 'KMeans', 'GMM'],\n",
    "    'Время': [My_KMeans_time, KMeans_time, GMM_time],\n",
    "    'Silhouette': [My_KMeans_silhouette, KMeans_silhouette, GMM_silhouette]\n",
    "})\n",
    "\n",
    "results"
   ]
  },
  {
   "attachments": {},
   "cell_type": "markdown",
   "metadata": {},
   "source": [
    "Выводы:\n",
    "1. Моя реализация KMeans работает быстрее, чем реализация из sklearn, при этом показывает такое же качество по метрике silhouette_score.\n",
    "2. Алгоритм GaussianMixture работает медленнее, чем KMeans, но при этом показывает качество хуже."
   ]
  },
  {
   "attachments": {},
   "cell_type": "markdown",
   "metadata": {},
   "source": [
    "## 7. Также снизить размерность данных с помощью метода главных компонент PCA и и понять качество дальнейшей кластеризации всеми использованными реализациями при различном количестве главных компонент."
   ]
  },
  {
   "cell_type": "code",
   "execution_count": 55,
   "metadata": {},
   "outputs": [],
   "source": [
    "from sklearn.decomposition import PCA\n",
    "\n",
    "pca_10 = PCA(n_components=10)\n",
    "pca_10.fit(data)\n",
    "data_pca_10 = pca_10.transform(data)"
   ]
  },
  {
   "cell_type": "code",
   "execution_count": 56,
   "metadata": {},
   "outputs": [
    {
     "name": "stdout",
     "output_type": "stream",
     "text": [
      "Лучшее значение K: 2, силуэтный коэффициент: 0.7885393936007736\n"
     ]
    }
   ],
   "source": [
    "# Try MyKMeans with PCA\n",
    "K_values = range(2, 11)\n",
    "best_K = None\n",
    "best_score = -1\n",
    "\n",
    "for K in K_values:\n",
    "    kmeans = MyKMeans(K=K)\n",
    "    kmeans.fit(data_pca_10)\n",
    "    cluster_assignments = kmeans.predict(data_pca_10)\n",
    "    score = silhouette_score(data_pca_10, cluster_assignments)\n",
    "    \n",
    "    if score > best_score:\n",
    "        best_score = score\n",
    "        best_K = K\n",
    "\n",
    "print(f\"Лучшее значение K: {best_K}, силуэтный коэффициент: {best_score}\")"
   ]
  },
  {
   "cell_type": "code",
   "execution_count": 57,
   "metadata": {},
   "outputs": [],
   "source": [
    "start_time = time.time()\n",
    "kmeans = MyKMeans(K=best_K)\n",
    "kmeans.fit(data_pca_10)\n",
    "end_time = time.time()\n",
    "\n",
    "My_KMeans_time = end_time - start_time\n",
    "cluster_assignments = kmeans.predict(data_pca_10)\n",
    "My_KMeans_silhouette = silhouette_score(data_pca_10, cluster_assignments)"
   ]
  },
  {
   "cell_type": "code",
   "execution_count": 58,
   "metadata": {},
   "outputs": [
    {
     "name": "stdout",
     "output_type": "stream",
     "text": [
      "Лучшее значение K: 2, силуэтный коэффициент: 0.7885393936007736\n"
     ]
    }
   ],
   "source": [
    "# Try KMeans with PCA\n",
    "K_values = range(2, 11)\n",
    "best_K = None\n",
    "best_score = -1\n",
    "\n",
    "for K in K_values:\n",
    "    kmeans = KMeans(n_clusters=K, random_state=42)\n",
    "    cluster_assignments = kmeans.fit_predict(data_pca_10)\n",
    "    score = silhouette_score(data_pca_10, cluster_assignments)\n",
    "    \n",
    "    if score > best_score:\n",
    "        best_score = score\n",
    "        best_K = K\n",
    "\n",
    "print(f\"Лучшее значение K: {best_K}, силуэтный коэффициент: {best_score}\")"
   ]
  },
  {
   "cell_type": "code",
   "execution_count": 59,
   "metadata": {},
   "outputs": [],
   "source": [
    "start_time = time.time()\n",
    "kmeans = KMeans(n_clusters=best_K, random_state=42)\n",
    "cluster_assignments = kmeans.fit_predict(data_pca_10)\n",
    "end_time = time.time()\n",
    "\n",
    "KMeans_time = end_time - start_time\n",
    "KMeans_silhouette = silhouette_score(data_pca_10, cluster_assignments)"
   ]
  },
  {
   "cell_type": "code",
   "execution_count": 60,
   "metadata": {},
   "outputs": [
    {
     "name": "stdout",
     "output_type": "stream",
     "text": [
      "Лучшее значение K: 2, силуэтный коэффициент: 0.782515705628431\n"
     ]
    }
   ],
   "source": [
    "# Try GMM with PCA\n",
    "K_values = range(2, 11)\n",
    "best_K = None\n",
    "best_score = -1\n",
    "\n",
    "for K in K_values:\n",
    "    gmm = GaussianMixture(n_components=K)\n",
    "    gmm.fit(data_pca_10)\n",
    "    cluster_assignments = gmm.fit_predict(data_pca_10)\n",
    "    score = silhouette_score(data_pca_10, cluster_assignments)\n",
    "    \n",
    "    if score > best_score:\n",
    "        best_score = score\n",
    "        best_K = K\n",
    "\n",
    "print(f\"Лучшее значение K: {best_K}, силуэтный коэффициент: {best_score}\")"
   ]
  },
  {
   "cell_type": "code",
   "execution_count": 61,
   "metadata": {},
   "outputs": [],
   "source": [
    "start_time = time.time()\n",
    "gmm = GaussianMixture(n_components=best_K)\n",
    "gmm.fit(data_pca_10)\n",
    "cluster_assignments = gmm.fit_predict(data_pca_10)\n",
    "end_time = time.time()\n",
    "\n",
    "GMM_time = end_time - start_time\n",
    "GMM_silhouette = silhouette_score(data_pca_10, cluster_assignments)"
   ]
  },
  {
   "cell_type": "code",
   "execution_count": 62,
   "metadata": {},
   "outputs": [
    {
     "data": {
      "text/html": [
       "<div>\n",
       "<style scoped>\n",
       "    .dataframe tbody tr th:only-of-type {\n",
       "        vertical-align: middle;\n",
       "    }\n",
       "\n",
       "    .dataframe tbody tr th {\n",
       "        vertical-align: top;\n",
       "    }\n",
       "\n",
       "    .dataframe thead th {\n",
       "        text-align: right;\n",
       "    }\n",
       "</style>\n",
       "<table border=\"1\" class=\"dataframe\">\n",
       "  <thead>\n",
       "    <tr style=\"text-align: right;\">\n",
       "      <th></th>\n",
       "      <th>Метод</th>\n",
       "      <th>Время</th>\n",
       "      <th>Silhouette</th>\n",
       "    </tr>\n",
       "  </thead>\n",
       "  <tbody>\n",
       "    <tr>\n",
       "      <th>0</th>\n",
       "      <td>MyKMeans</td>\n",
       "      <td>0.017394</td>\n",
       "      <td>0.788539</td>\n",
       "    </tr>\n",
       "    <tr>\n",
       "      <th>1</th>\n",
       "      <td>KMeans</td>\n",
       "      <td>0.274828</td>\n",
       "      <td>0.788539</td>\n",
       "    </tr>\n",
       "    <tr>\n",
       "      <th>2</th>\n",
       "      <td>GMM</td>\n",
       "      <td>5.278856</td>\n",
       "      <td>0.782516</td>\n",
       "    </tr>\n",
       "  </tbody>\n",
       "</table>\n",
       "</div>"
      ],
      "text/plain": [
       "      Метод     Время  Silhouette\n",
       "0  MyKMeans  0.017394    0.788539\n",
       "1    KMeans  0.274828    0.788539\n",
       "2       GMM  5.278856    0.782516"
      ]
     },
     "execution_count": 62,
     "metadata": {},
     "output_type": "execute_result"
    }
   ],
   "source": [
    "# Таблица с результатами\n",
    "results = pd.DataFrame({\n",
    "    'Метод': ['MyKMeans', 'KMeans', 'GMM'],\n",
    "    'Время': [My_KMeans_time, KMeans_time, GMM_time],\n",
    "    'Silhouette': [My_KMeans_silhouette, KMeans_silhouette, GMM_silhouette]\n",
    "})\n",
    "\n",
    "results"
   ]
  },
  {
   "attachments": {},
   "cell_type": "markdown",
   "metadata": {},
   "source": [
    "Выводы:\n",
    "1. При уменьшении размерности до 2, качество моей реализации KMeans и реализации из sklearn не изменилось, разве что незначительно снизилось время обучения.\n",
    "2. А вот алгоритм GaussianMixture показал существенное улучшение качества и уменьшение времени обучения при уменьшении размерности до 2."
   ]
  },
  {
   "attachments": {},
   "cell_type": "markdown",
   "metadata": {},
   "source": [
    "## Визуализировать данные снижением размерности до 2 или 3 с помощью PCA и t-SNE. В случае проблем с производительностью t-SNE, можно сначала до какой то степени снизить размерность с помощью PCA, а затем запустить t-SNE."
   ]
  },
  {
   "attachments": {},
   "cell_type": "markdown",
   "metadata": {},
   "source": [
    "Визуализируем данные, в качестве кластеров будем использовать столбец результат работы алгоритма GaussianMixture."
   ]
  },
  {
   "cell_type": "code",
   "execution_count": 67,
   "metadata": {},
   "outputs": [
    {
     "data": {
      "image/png": "[encoded data removed]",
      "text/plain": [
       "<Figure size 640x480 with 1 Axes>"
      ]
     },
     "metadata": {},
     "output_type": "display_data"
    }
   ],
   "source": [
    "import matplotlib.pyplot as plt\n",
    "\n",
    "plt.scatter(data_pca_10[:, 0], data_pca_10[:, 1], c=cluster_assignments)\n",
    "plt.xlabel('PC1')\n",
    "plt.ylabel('PC2')\n",
    "\n",
    "plt.show()"
   ]
  },
  {
   "cell_type": "code",
   "execution_count": 68,
   "metadata": {},
   "outputs": [
    {
     "name": "stderr",
     "output_type": "stream",
     "text": [
      "/Users/alechh/PythonProjects/machine-learning-course/.venv/lib/python3.9/site-packages/sklearn/manifold/_t_sne.py:800: FutureWarning: The default initialization in TSNE will change from 'random' to 'pca' in 1.2.\n",
      "  warnings.warn(\n",
      "/Users/alechh/PythonProjects/machine-learning-course/.venv/lib/python3.9/site-packages/sklearn/manifold/_t_sne.py:810: FutureWarning: The default learning rate in TSNE will change from 200.0 to 'auto' in 1.2.\n",
      "  warnings.warn(\n"
     ]
    }
   ],
   "source": [
    "from sklearn.manifold import TSNE\n",
    "\n",
    "tsne = TSNE(n_components=2)\n",
    "data_tsne = tsne.fit_transform(data)"
   ]
  },
  {
   "cell_type": "code",
   "execution_count": 70,
   "metadata": {},
   "outputs": [
    {
     "data": {
      "image/png": "[encoded data removed]",
      "text/plain": [
       "<Figure size 640x480 with 1 Axes>"
      ]
     },
     "metadata": {},
     "output_type": "display_data"
    }
   ],
   "source": [
    "plt.scatter(data_tsne[:, 0], data_tsne[:, 1], c=cluster_assignments)\n",
    "plt.xlabel('t-SNE1')\n",
    "plt.ylabel('t-SNE2')\n",
    "\n",
    "plt.show()"
   ]
  }
 ],
 "metadata": {
  "kernelspec": {
   "display_name": ".venv",
   "language": "python",
   "name": "python3"
  },
  "language_info": {
   "codemirror_mode": {
    "name": "ipython",
    "version": 3
   },
   "file_extension": ".py",
   "mimetype": "text/x-python",
   "name": "python",
   "nbconvert_exporter": "python",
   "pygments_lexer": "ipython3",
   "version": "3.9.6"
  },
  "orig_nbformat": 4
 },
 "nbformat": 4,
 "nbformat_minor": 2
}
